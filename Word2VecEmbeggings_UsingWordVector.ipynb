{
  "nbformat": 4,
  "nbformat_minor": 0,
  "metadata": {
    "colab": {
      "name": "Word2VecEmbeggings_UsingWordVector.ipynb",
      "provenance": [],
      "authorship_tag": "ABX9TyPZLYElqJaR4Z0qfoCXJHV0",
      "include_colab_link": true
    },
    "kernelspec": {
      "name": "python3",
      "display_name": "Python 3"
    },
    "language_info": {
      "name": "python"
    }
  },
  "cells": [
    {
      "cell_type": "markdown",
      "metadata": {
        "id": "view-in-github",
        "colab_type": "text"
      },
      "source": [
        "<a href=\"https://colab.research.google.com/github/mzkhan2000/SA/blob/main/Word2VecEmbeggings_UsingWordVector.ipynb\" target=\"_parent\"><img src=\"https://colab.research.google.com/assets/colab-badge.svg\" alt=\"Open In Colab\"/></a>"
      ]
    },
    {
      "cell_type": "code",
      "execution_count": 1,
      "metadata": {
        "id": "HyIsR9ccGJO5"
      },
      "outputs": [],
      "source": [
        "import gensim.downloader as api"
      ]
    },
    {
      "cell_type": "code",
      "source": [
        "from scipy import spatial"
      ],
      "metadata": {
        "id": "jwVB3pzdJ4WI"
      },
      "execution_count": 12,
      "outputs": []
    },
    {
      "cell_type": "code",
      "source": [
        "word_vectors = api.load(\"glove-wiki-gigaword-100\")"
      ],
      "metadata": {
        "colab": {
          "base_uri": "https://localhost:8080/"
        },
        "id": "7-tVbF3NGZqx",
        "outputId": "871b61a2-3c70-48b1-d438-0176f5176f5b"
      },
      "execution_count": 2,
      "outputs": [
        {
          "output_type": "stream",
          "name": "stdout",
          "text": [
            "[==================================================] 100.0% 128.1/128.1MB downloaded\n"
          ]
        }
      ]
    },
    {
      "cell_type": "code",
      "source": [
        "sentence_obama = 'Obama speaks to the media in Illinois'.lower().split()"
      ],
      "metadata": {
        "id": "M66vG3xGGvsb"
      },
      "execution_count": 3,
      "outputs": []
    },
    {
      "cell_type": "code",
      "source": [
        "sentence_president = 'The president greets the press in Chicago'.lower().split()"
      ],
      "metadata": {
        "id": "GFUw8doAGztw"
      },
      "execution_count": 4,
      "outputs": []
    },
    {
      "cell_type": "code",
      "source": [
        "similarity = word_vectors.wmdistance(sentence_obama, sentence_president)"
      ],
      "metadata": {
        "id": "-h90xyjuG1MY"
      },
      "execution_count": 5,
      "outputs": []
    },
    {
      "cell_type": "code",
      "source": [
        "print(f\"{similarity:.4f}\")"
      ],
      "metadata": {
        "colab": {
          "base_uri": "https://localhost:8080/"
        },
        "id": "Ndxu9CpNG-oY",
        "outputId": "283f544d-fd7c-4189-b0cf-1d1ccd25070a"
      },
      "execution_count": 6,
      "outputs": [
        {
          "output_type": "stream",
          "name": "stdout",
          "text": [
            "3.4893\n"
          ]
        }
      ]
    },
    {
      "cell_type": "code",
      "source": [
        "print(sentence_president)"
      ],
      "metadata": {
        "colab": {
          "base_uri": "https://localhost:8080/"
        },
        "id": "qMcm3vOXHG8o",
        "outputId": "15dbfc54-f001-48d9-9bdb-cf1692412c19"
      },
      "execution_count": 7,
      "outputs": [
        {
          "output_type": "stream",
          "name": "stdout",
          "text": [
            "['the', 'president', 'greets', 'the', 'press', 'in', 'chicago']\n"
          ]
        }
      ]
    },
    {
      "cell_type": "code",
      "source": [
        "vector = word_vectors.wv['computer']\n",
        "print(vector)"
      ],
      "metadata": {
        "colab": {
          "base_uri": "https://localhost:8080/"
        },
        "id": "CAzk4fatHiOq",
        "outputId": "1ad2ae53-d483-435b-82da-4d851967b74f"
      },
      "execution_count": 10,
      "outputs": [
        {
          "output_type": "stream",
          "name": "stdout",
          "text": [
            "[-1.6298e-01  3.0141e-01  5.7978e-01  6.6548e-02  4.5835e-01 -1.5329e-01\n",
            "  4.3258e-01 -8.9215e-01  5.7747e-01  3.6375e-01  5.6524e-01 -5.6281e-01\n",
            "  3.5659e-01 -3.6096e-01 -9.9662e-02  5.2753e-01  3.8839e-01  9.6185e-01\n",
            "  1.8841e-01  3.0741e-01 -8.7842e-01 -3.2442e-01  1.1202e+00  7.5126e-02\n",
            "  4.2661e-01 -6.0651e-01 -1.3893e-01  4.7862e-02 -4.5158e-01  9.3723e-02\n",
            "  1.7463e-01  1.0962e+00 -1.0044e+00  6.3889e-02  3.8002e-01  2.1109e-01\n",
            " -6.6247e-01 -4.0736e-01  8.9442e-01 -6.0974e-01 -1.8577e-01 -1.9913e-01\n",
            " -6.9226e-01 -3.1806e-01 -7.8565e-01  2.3831e-01  1.2992e-01  8.7721e-02\n",
            "  4.3205e-01 -2.2662e-01  3.1549e-01 -3.1748e-01 -2.4632e-03  1.6615e-01\n",
            "  4.2358e-01 -1.8087e+00 -3.6699e-01  2.3949e-01  2.5458e+00  3.6111e-01\n",
            "  3.9486e-02  4.8607e-01 -3.6974e-01  5.7282e-02 -4.9317e-01  2.2765e-01\n",
            "  7.9966e-01  2.1428e-01  6.9811e-01  1.1262e+00 -1.3526e-01  7.1972e-01\n",
            " -9.9605e-04 -2.6842e-01 -8.3038e-01  2.1780e-01  3.4355e-01  3.7731e-01\n",
            " -4.0251e-01  3.3124e-01  1.2576e+00 -2.7196e-01 -8.6093e-01  9.0053e-02\n",
            " -2.4876e+00  4.5200e-01  6.6945e-01 -5.4648e-01 -1.0324e-01 -1.6979e-01\n",
            "  5.9437e-01  1.1280e+00  7.5755e-01 -5.9160e-02  1.5152e-01 -2.8388e-01\n",
            "  4.9452e-01 -9.1703e-01  9.1289e-01 -3.0927e-01]\n"
          ]
        },
        {
          "output_type": "stream",
          "name": "stderr",
          "text": [
            "/usr/local/lib/python3.7/dist-packages/ipykernel_launcher.py:1: DeprecationWarning: Call to deprecated `wv` (Attribute will be removed in 4.0.0, use self instead).\n",
            "  \"\"\"Entry point for launching an IPython kernel.\n"
          ]
        }
      ]
    },
    {
      "cell_type": "code",
      "source": [
        "vectors_president = word_vectors.wv[sentence_president]"
      ],
      "metadata": {
        "colab": {
          "base_uri": "https://localhost:8080/"
        },
        "id": "O3C7LZQGIZNv",
        "outputId": "9cb1192a-f53a-49dc-ef28-89c94fb7e84f"
      },
      "execution_count": 14,
      "outputs": [
        {
          "output_type": "stream",
          "name": "stderr",
          "text": [
            "/usr/local/lib/python3.7/dist-packages/ipykernel_launcher.py:1: DeprecationWarning: Call to deprecated `wv` (Attribute will be removed in 4.0.0, use self instead).\n",
            "  \"\"\"Entry point for launching an IPython kernel.\n"
          ]
        }
      ]
    },
    {
      "cell_type": "code",
      "source": [
        "vectors_obama = word_vectors.wv[sentence_obama]"
      ],
      "metadata": {
        "colab": {
          "base_uri": "https://localhost:8080/"
        },
        "id": "QwEGgjSGKFJO",
        "outputId": "45497df7-07b4-456a-f1e6-5a77f635c44e"
      },
      "execution_count": 15,
      "outputs": [
        {
          "output_type": "stream",
          "name": "stderr",
          "text": [
            "/usr/local/lib/python3.7/dist-packages/ipykernel_launcher.py:1: DeprecationWarning: Call to deprecated `wv` (Attribute will be removed in 4.0.0, use self instead).\n",
            "  \"\"\"Entry point for launching an IPython kernel.\n"
          ]
        }
      ]
    },
    {
      "cell_type": "code",
      "source": [
        "similarity = word_vectors.wmdistance(sentence_obama, sentence_president)\n",
        "print(similarity) "
      ],
      "metadata": {
        "colab": {
          "base_uri": "https://localhost:8080/"
        },
        "id": "PmseKbcFLcWP",
        "outputId": "1a07b848-ac55-4ddc-d650-bf509edb381f"
      },
      "execution_count": 17,
      "outputs": [
        {
          "output_type": "stream",
          "name": "stdout",
          "text": [
            "3.4892687395218687\n"
          ]
        }
      ]
    },
    {
      "cell_type": "code",
      "source": [
        "similarity = word_vectors.n_similarity(sentence_obama, sentence_president)\n",
        "print(similarity) "
      ],
      "metadata": {
        "colab": {
          "base_uri": "https://localhost:8080/"
        },
        "id": "WoXrtoHVLkW0",
        "outputId": "0690803d-c47d-4814-c20f-e1c7ea56d4e2"
      },
      "execution_count": 18,
      "outputs": [
        {
          "output_type": "stream",
          "name": "stdout",
          "text": [
            "0.9272281\n"
          ]
        }
      ]
    },
    {
      "cell_type": "code",
      "source": [
        "doc_1 = 'Applications to Civil and Administrative Tribunal for administrative reviews of determinations'\n",
        "doc_1 = doc_1.lower().split()"
      ],
      "metadata": {
        "id": "W-vuGsdSMMot"
      },
      "execution_count": 19,
      "outputs": []
    },
    {
      "cell_type": "code",
      "source": [
        "doc_2 = 'Reregistration after removal for non payment of registration administration fee'\n",
        "doc_2 = doc_2.lower().split()"
      ],
      "metadata": {
        "id": "yDn9JC6dNEIE"
      },
      "execution_count": 20,
      "outputs": []
    },
    {
      "cell_type": "code",
      "source": [
        "doc_test1 = 'A person registered pursuant to an entitlement to reregistration under this section is taken to have been so registered on and from the day the person name was removed from the register of surveyors or on and from such later day as the Board determines and notifies to the person However nothing in this subsection affects any proceedings for an offence instituted against the person before the person was entitled to be re-registered'\n",
        "doc_test1 = doc_test1.lower().split()"
      ],
      "metadata": {
        "id": "qvyg5Zj_Nd7q"
      },
      "execution_count": 25,
      "outputs": []
    },
    {
      "cell_type": "code",
      "source": [
        "doc_test2 = 'Any registered surveyor against whom action is taken under this Part may apply to the Civil and Administrative Tribunal for an administrative review under the Administrative Decisions Review Act year of the Board determination to take such action'\n",
        "doc_test2 = doc_test2.lower().split()"
      ],
      "metadata": {
        "id": "u8pjAMAAPxHC"
      },
      "execution_count": 30,
      "outputs": []
    },
    {
      "cell_type": "code",
      "source": [
        "similarity = word_vectors.n_similarity(doc_1, doc_test2)\n",
        "print(similarity) "
      ],
      "metadata": {
        "colab": {
          "base_uri": "https://localhost:8080/"
        },
        "id": "8CZsQ46QNrEa",
        "outputId": "e6e34aa9-0475-4bc9-f872-f72b07f4e23f"
      },
      "execution_count": 31,
      "outputs": [
        {
          "output_type": "stream",
          "name": "stdout",
          "text": [
            "0.93487406\n"
          ]
        }
      ]
    },
    {
      "cell_type": "code",
      "source": [
        "similarity = word_vectors.n_similarity(doc_2, doc_test2)\n",
        "print(similarity) "
      ],
      "metadata": {
        "colab": {
          "base_uri": "https://localhost:8080/"
        },
        "id": "tR0gjzZdOJWL",
        "outputId": "734437d8-d7df-4f22-a5db-d8534fdb4057"
      },
      "execution_count": 32,
      "outputs": [
        {
          "output_type": "stream",
          "name": "stdout",
          "text": [
            "0.87792164\n"
          ]
        }
      ]
    },
    {
      "cell_type": "code",
      "source": [
        "similarity = word_vectors.wmdistance(doc_1, doc_test1)\n",
        "print(similarity) "
      ],
      "metadata": {
        "colab": {
          "base_uri": "https://localhost:8080/"
        },
        "id": "qtmw3t1kOwvr",
        "outputId": "3ae5ef51-9976-4a2f-a60d-838bf4e7bb60"
      },
      "execution_count": 28,
      "outputs": [
        {
          "output_type": "stream",
          "name": "stdout",
          "text": [
            "4.862331511046623\n"
          ]
        }
      ]
    },
    {
      "cell_type": "code",
      "source": [
        "similarity = word_vectors.wmdistance(doc_2, doc_test1)\n",
        "print(similarity) "
      ],
      "metadata": {
        "colab": {
          "base_uri": "https://localhost:8080/"
        },
        "id": "5yq-cmfCO6AS",
        "outputId": "c977d65e-e1f5-4a4d-c8c7-052ac671cc11"
      },
      "execution_count": 29,
      "outputs": [
        {
          "output_type": "stream",
          "name": "stdout",
          "text": [
            "4.965063826853166\n"
          ]
        }
      ]
    }
  ]
}